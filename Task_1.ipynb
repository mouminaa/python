{
 "cells": [
  {
   "cell_type": "markdown",
   "metadata": {},
   "source": [
    "# Задание 1\n",
    "\n",
    "(**NB.** для запуска примеров кода нужен Python версии не ниже **3.10**, допускается использование других версий, в этом случае нужно самостоятельно избавиться от конструкции `match`).\n",
    "\n",
    "Есть следующий код для [автоматического дифференцирования](https://en.wikipedia.org/wiki/Automatic_differentiation), в котором используются особенности системы типов языка `Python`: "
   ]
  },
  {
   "cell_type": "code",
   "execution_count": 3,
   "metadata": {},
   "outputs": [],
   "source": [
    "from asyncio import log\n",
    "from cmath import cos, exp, sin, sqrt\n",
    "from dataclasses import dataclass\n",
    "from typing import Union, Callable\n",
    "from numbers import Number\n",
    "\n",
    "import numpy as np\n",
    "\n",
    "@dataclass\n",
    "class Dual:\n",
    "    value: float\n",
    "    d: float\n",
    "    \n",
    "    def __add__(self, other: Union[\"Dual\", Number]) -> \"Dual\":\n",
    "         match other:\n",
    "            case Dual(o_value, o_d):\n",
    "                return Dual(self.value + o_value, self.d + o_d)\n",
    "            case Number():\n",
    "                return Dual(float(other) + self.value, self.d)\n",
    "            case _:\n",
    "                raise ValueError(f\"unsupported operand type(s) for +: '{type(self)}' and '{type(other)}'\")    \n",
    "\n",
    "    def __sub__(self, other: Union[\"Dual\", Number]) -> \"Dual\":\n",
    "         match other:\n",
    "            case Dual(o_value, o_d):\n",
    "                return Dual(self.value - o_value, self.d - o_d)\n",
    "            case Number():\n",
    "                return Dual(float(other) - self.value, self.d)\n",
    "            case _:\n",
    "                raise ValueError(f\"unsupported operand type(s) for +: '{type(self)}' and '{type(other)}'\")\n",
    "\n",
    "\n",
    "    def __mul__(self, other: Union[\"Dual\", Number]) -> \"Dual\":\n",
    "         match other:\n",
    "            case Dual(o_value, o_d):\n",
    "                return Dual(self.value * o_value, self.value * o_d + self.d * o_value)\n",
    "            case Number():\n",
    "                return Dual(float(other) * self.value, float(other) * self.d)\n",
    "            case _:\n",
    "                raise ValueError(f\"unsupported operand type(s) for +: '{type(self)}' and '{type(other)}'\")\n",
    "\n",
    "\n",
    "    def __truediv__(self, other: Union[\"Dual\", Number]) -> \"Dual\":\n",
    "         match other:\n",
    "            case Dual(o_value, o_d):\n",
    "                return Dual(self.value / o_value, (self.d * o_value - self.value * o_d) / (o_value ** 2))\n",
    "            case Number():\n",
    "                return Dual(self.value / float(other), self.d / float(other))\n",
    "            case _:\n",
    "                raise ValueError(f\"unsupported operand type(s) for +: '{type(self)}' and '{type(other)}'\")\n",
    "\n",
    "    def __pow__(self, other: Union[\"Dual\", Number]) -> \"Dual\":\n",
    "         match other:\n",
    "            case Dual(o_value, o_d):\n",
    "                return Dual(self.value ** o_value, self.value ** o_value * (o_value * self.d / self.value + o_d * np.log(self.value)))\n",
    "            case Number():\n",
    "                return Dual(self.value ** float(other), self.d * float(other) * self.value ** (float(other) - 1))\n",
    "            case _:\n",
    "                raise ValueError(f\"unsupported operand type(s) for +: '{type(self)}' and '{type(other)}'\")\n",
    "\n",
    "    __rmul__ = __mul__  # https://docs.python.org/3/reference/datamodel.html#object.__mul__\n",
    "    __radd__ = __add__  # https://docs.python.org/3/reference/datamodel.html#object.__radd__\n",
    "    __rsub__ = __sub__  # https://docs.python.org/3/reference/datamodel.html#object.__rsub__\n",
    "    __rtruediv__ = __truediv__ # https://docs.python.org/3/reference/datamodel.html#object.__rtruediv__ \n",
    "    __rpow__ = __pow__  # https://docs.python.org/3/reference/datamodel.html#object.__rpow__\n",
    "\n",
    "\n",
    "    # Задание 1.1\n",
    "    # Унарный плюс\n",
    "    def pos(x: Union[float, float]) -> Union[float, float]:\n",
    "        match x:\n",
    "            case Dual(value, d):\n",
    "                return Dual(value, d)\n",
    "            case float():\n",
    "                return x\n",
    "            case _:\n",
    "                raise ValueError(f\"unsupported operand type(s) for +: '{type(x)}'\")  \n",
    "\n",
    "    # Задание 1.1\n",
    "    # Унарный минус\n",
    "    def neg(x: Union[float, float]) -> Union[float, float]:\n",
    "        match x:\n",
    "            case Dual(value, d):\n",
    "                return Dual(-value, -d)\n",
    "            case float():\n",
    "                return -x\n",
    "            case _:\n",
    "                raise ValueError(f\"unsupported operand type(s) for +: '{type(x)}'\")\n",
    "                 \n",
    "\n",
    "    # Задание 1.1\n",
    "    # Функция деления\n",
    "    def div(x: Union[float, float], y: Union[float, float]) -> Union[float, float]:\n",
    "        match x:\n",
    "            case Dual(value, d):\n",
    "                return Dual(value / y, d / y)\n",
    "            case float():\n",
    "                return x / y\n",
    "            case _:\n",
    "                raise ValueError(f\"unsupported operand type(s) for +: '{type(x)}' and '{type(y)}'\")  \n",
    "\n",
    "\n",
    "    # Задание 1.1\n",
    "    # Возведение в степень\n",
    "    def pow(x: Union[float, float], y: Union[float, float]) -> Union[float, float]:\n",
    "        match x:\n",
    "            case Dual(value, d):\n",
    "                return Dual(value ** y, d * y * value ** (y - 1))\n",
    "            case float():\n",
    "                return x ** y \n",
    "            case _:\n",
    "                raise ValueError(f\"unsupported operand type(s) for +: '{type(x)}' and '{type(y)}'\")    \n",
    "\n",
    "    # Задание 1.2\n",
    "    #  Функция sin(x)\n",
    "    def sin(x: Union[float, float]) -> Union[float, float]:\n",
    "        match x:\n",
    "            case Dual(value, d):\n",
    "                return Dual(np.sin(value), np.cos(value) * d)\n",
    "            case float():\n",
    "                return np.sin(x)\n",
    "            case _: \n",
    "                raise ValueError(f\"unsupported operand type(s) for +: '{type(x)}'\")\n",
    "\n",
    "    # Задание 1.2\n",
    "    # Функция cos(x)\n",
    "    def cos(x: Union[float, float]) -> Union[float, float]:\n",
    "        match x:\n",
    "            case Dual(value, d):\n",
    "                return Dual(np.cos(value), -np.sin(value) * d)\n",
    "            case float():\n",
    "                return np.cos(x)\n",
    "            case _:\n",
    "                raise ValueError(f\"unsupported operand type(s) for +: '{type(x)}'\")\n",
    "                \n",
    "\n",
    "    # Задание 1.2\n",
    "    # Функция exp(x)\n",
    "    def exp(x: Union[float, float]) -> Union[float, float]:\n",
    "        match x:\n",
    "            case Dual(value, d):\n",
    "                return Dual(np.exp(value), np.exp(value) * d)\n",
    "            case float():\n",
    "                return np.exp(x)\n",
    "            case _:\n",
    "                raise ValueError(f\"unsupported operand type(s) for +: '{type(x)}'\")\n",
    "\n",
    "\n",
    "    # Задание 1.2\n",
    "    # Функция log(x)\n",
    "    def log(x: Union[float, float]) -> Union[float, float]:\n",
    "        match x:\n",
    "            case Dual(value, d):\n",
    "                return Dual(np.log(value), d / value)\n",
    "            case float():\n",
    "                return np.log(x)\n",
    "            case _:\n",
    "                raise ValueError(f\"unsupported operand type(s) for +: '{type(x)}'\")\n",
    "\n",
    "    # Задание 1.5\n",
    "    # Реализуйте поддержку функций нескольких аргументов f(x, y, z)\n",
    "    def f(x: Union[float, float], y: Union[float, float], z: Union[float, float]) -> Union[float, float]:\n",
    "        return x * y + z\n",
    "                \n",
    "\n",
    "    \n",
    " \n",
    "# Addition and Multiplication\n",
    "def diff(func: Callable[[float], float]) -> Callable[[float], float]:\n",
    "    return lambda x: func(Dual(x, 1.0)).d\n",
    "\n",
    "# Задание 1.5\n",
    "# функций нескольких аргументов f(x, y, z)\n",
    "def diff2(func: Callable[[float, float, float], float]) -> Callable[[float, float, float], float]:\n",
    "    return lambda x, y, z: func(Dual(x, 2.0), Dual(y, 1.0), Dual(z, 3.0)).d\n",
    "    \n",
    "     "
   ]
  },
  {
   "cell_type": "markdown",
   "metadata": {},
   "source": [
    "Поддерживаются две операции - сложение и умножение. Применить можно так:"
   ]
  },
  {
   "cell_type": "code",
   "execution_count": 4,
   "metadata": {},
   "outputs": [
    {
     "data": {
      "text/plain": [
       "212.0"
      ]
     },
     "execution_count": 4,
     "metadata": {},
     "output_type": "execute_result"
    }
   ],
   "source": [
    "# Функция, которую будем дифференцировать\n",
    "def f(x: float) -> float:\n",
    "    return 140*x + 72*x - 10\n",
    "\n",
    "f_diff = diff(f)\n",
    "\n",
    "# значение производной в точке x = 2\n",
    "f_diff(2)\n",
    "\n",
    "\n"
   ]
  },
  {
   "cell_type": "markdown",
   "metadata": {},
   "source": [
    "## Задание 1.1 (5 баллов)\n",
    "\n",
    "Какие недостатки вы видите в данной реализации? Реализуйте поддержку (полностью самостоятельно или модифицируя приведенный код):\n",
    "- [унарных операций](https://docs.python.org/3/reference/datamodel.html#object.__neg__) \n",
    "- деления\n",
    "- возведения в степень\n",
    "\n",
    "Каким образом можно проверить корректность решения?  Реализуйте достаточный, по вашему мнению, набор тестов.\n",
    "\n",
    "### Ответь\n",
    "Можно проверить корректость с помошю численного аппроксимиования значения в некоторых точках и через программого как вот это задачи которые мы решаем."
   ]
  },
  {
   "cell_type": "code",
   "execution_count": 5,
   "metadata": {},
   "outputs": [
    {
     "data": {
      "text/plain": [
       "167.0"
      ]
     },
     "execution_count": 5,
     "metadata": {},
     "output_type": "execute_result"
    }
   ],
   "source": [
    "# Test for unary operators\n",
    "def f(x: float) -> float:\n",
    "    return 140*x + 27*x - 10\n",
    "\n",
    "h_diff = diff(f)\n",
    "\n",
    "# значение производной в точке x = 2\n",
    "h_diff(2)\n"
   ]
  },
  {
   "cell_type": "code",
   "execution_count": 6,
   "metadata": {},
   "outputs": [
    {
     "data": {
      "text/plain": [
       "16.0"
      ]
     },
     "execution_count": 6,
     "metadata": {},
     "output_type": "execute_result"
    }
   ],
   "source": [
    "# Test for dvision operator\n",
    "def p(x: float) -> float:\n",
    "    return 5 / x**5 + 10\n",
    "\n",
    "p_diff = diff(p)\n",
    "\n",
    "# значение производной в точке x = 2\n",
    "p_diff(2)"
   ]
  },
  {
   "cell_type": "code",
   "execution_count": 7,
   "metadata": {},
   "outputs": [
    {
     "data": {
      "text/plain": [
       "1091.0"
      ]
     },
     "execution_count": 7,
     "metadata": {},
     "output_type": "execute_result"
    }
   ],
   "source": [
    "# Test for power operator\n",
    "def g(x: float) -> float:\n",
    "    return x**8 + 2*x**4 + 3*x + 1\n",
    "\n",
    "j_diff = diff(g)\n",
    "\n",
    "# значение производной в точке x = 2\n",
    "j_diff(2)    "
   ]
  },
  {
   "cell_type": "markdown",
   "metadata": {},
   "source": [
    "## Задание 1.2 (7 баллов)\n",
    "Придумайте способ и реализуйте поддержку функций:\n",
    "- `exp()`\n",
    "- `cos()`\n",
    "- `sin()`\n",
    "- `log()`\n",
    "\n",
    "Добавьте соответствующие тесты"
   ]
  },
  {
   "cell_type": "code",
   "execution_count": 8,
   "metadata": {},
   "outputs": [
    {
     "data": {
      "text/plain": [
       "26.389056098930652"
      ]
     },
     "execution_count": 8,
     "metadata": {},
     "output_type": "execute_result"
    }
   ],
   "source": [
    "# Test for exp() operator\n",
    "def k(x: float) -> float:\n",
    "    return np.exp(x) + 4*x**2 + 3*x + 1\n",
    "\n",
    "k_diff = diff(k)\n",
    "\n",
    "# значение производной в точке x = 2\n",
    "k_diff(2)"
   ]
  },
  {
   "cell_type": "code",
   "execution_count": 9,
   "metadata": {},
   "outputs": [
    {
     "data": {
      "text/plain": [
       "10247.090702573174"
      ]
     },
     "execution_count": 9,
     "metadata": {},
     "output_type": "execute_result"
    }
   ],
   "source": [
    "# Test for cos() operator\n",
    "def l(x: float) -> float:\n",
    "    return np.cos(x) + 2*x**10 + 8*x + 1\n",
    "\n",
    "l_diff = diff(l)\n",
    "\n",
    "# значение производной в точке x = 2\n",
    "l_diff(2)"
   ]
  },
  {
   "cell_type": "code",
   "execution_count": 10,
   "metadata": {},
   "outputs": [
    {
     "data": {
      "text/plain": [
       "10.583853163452858"
      ]
     },
     "execution_count": 10,
     "metadata": {},
     "output_type": "execute_result"
    }
   ],
   "source": [
    "# Test for sin() operator\n",
    "def m(x: float) -> float:\n",
    "    return np.sin(x) + 2*x**2 + 3*x + 1\n",
    "\n",
    "m_diff = diff(m)\n",
    "\n",
    "# значение производной в точке x = 2\n",
    "m_diff(2)"
   ]
  },
  {
   "cell_type": "code",
   "execution_count": 11,
   "metadata": {},
   "outputs": [
    {
     "data": {
      "text/plain": [
       "11.5"
      ]
     },
     "execution_count": 11,
     "metadata": {},
     "output_type": "execute_result"
    }
   ],
   "source": [
    "# Test for log() operator\n",
    "def n(x: float) -> float:\n",
    "    return np.log(x) + 2*x**2 + 3*x + 1\n",
    "\n",
    "n_diff = diff(n)\n",
    "\n",
    "# значение производной в точке x = 2\n",
    "n_diff(2)"
   ]
  },
  {
   "cell_type": "markdown",
   "metadata": {},
   "source": [
    "## Задание 1.3 (3 балла)\n",
    "\n",
    "Воспользуйтесь методами **численного** дифференцирования для \"проверки\" работы кода на нескольких примерах. Например,  библиотеке `scipy` есть функция `derivative`. Или реализуйте какой-нибудь метод численного дифференцирования самостоятельно (**+5 баллов**)"
   ]
  },
  {
   "cell_type": "code",
   "execution_count": 12,
   "metadata": {},
   "outputs": [
    {
     "data": {
      "text/plain": [
       "22.0"
      ]
     },
     "execution_count": 12,
     "metadata": {},
     "output_type": "execute_result"
    }
   ],
   "source": [
    "from scipy.misc import derivative\n",
    "\n",
    "def f(x: float) -> float:\n",
    "    return 5 * x * x + 2 * x + 2\n",
    "\n",
    "derivative(f, 2.)\n",
    "\n"
   ]
  },
  {
   "cell_type": "code",
   "execution_count": 13,
   "metadata": {},
   "outputs": [
    {
     "data": {
      "text/plain": [
       "6.0"
      ]
     },
     "execution_count": 13,
     "metadata": {},
     "output_type": "execute_result"
    }
   ],
   "source": [
    "# Test for unary operators\\\n",
    "from scipy.misc import derivative\n",
    "\n",
    "def h(x: float) -> float:\n",
    "    return -2*x + 1 + 2*x*x\n",
    "\n",
    "derivative(h, 2.)"
   ]
  },
  {
   "cell_type": "code",
   "execution_count": 14,
   "metadata": {},
   "outputs": [
    {
     "data": {
      "text/plain": [
       "-0.4444444444444444"
      ]
     },
     "execution_count": 14,
     "metadata": {},
     "output_type": "execute_result"
    }
   ],
   "source": [
    "# Тест на оператор деления\n",
    "from scipy.misc import derivative\n",
    "\n",
    "def i(x: float) -> float:\n",
    "    return 1 / x**2 + 2\n",
    "\n",
    "derivative(i, 2.)"
   ]
  },
  {
   "cell_type": "code",
   "execution_count": 15,
   "metadata": {},
   "outputs": [
    {
     "data": {
      "text/plain": [
       "24.0"
      ]
     },
     "execution_count": 15,
     "metadata": {},
     "output_type": "execute_result"
    }
   ],
   "source": [
    "# Тест на силового оператора\n",
    "from scipy.misc import derivative\n",
    "\n",
    "def j(x: float) -> float:\n",
    "    return x**3 + 2*x**2 + 3*x + 1\n",
    "\n",
    "derivative(j, 2.)"
   ]
  },
  {
   "cell_type": "code",
   "execution_count": 16,
   "metadata": {},
   "outputs": [
    {
     "data": {
      "text/plain": [
       "19.68362754736431"
      ]
     },
     "execution_count": 16,
     "metadata": {},
     "output_type": "execute_result"
    }
   ],
   "source": [
    "# Проверка оператора exp()\n",
    "from scipy.misc import derivative\n",
    "\n",
    "def k(x: float) -> float:\n",
    "    return np.exp(x) + 2*x**2 + 3*x + 1\n",
    "\n",
    "derivative(k, 2.)"
   ]
  },
  {
   "cell_type": "code",
   "execution_count": 17,
   "metadata": {},
   "outputs": [
    {
     "data": {
      "text/plain": [
       "10.234852598765706"
      ]
     },
     "execution_count": 17,
     "metadata": {},
     "output_type": "execute_result"
    }
   ],
   "source": [
    "# Проверка оператора cos()\n",
    "from scipy.misc import derivative\n",
    "\n",
    "def l(x: float) -> float:\n",
    "    return np.cos(x) + 2*x**2 + 3*x + 1\n",
    "\n",
    "derivative(l, 2.)"
   ]
  },
  {
   "cell_type": "code",
   "execution_count": 18,
   "metadata": {},
   "outputs": [
    {
     "data": {
      "text/plain": [
       "10.649824511625987"
      ]
     },
     "execution_count": 18,
     "metadata": {},
     "output_type": "execute_result"
    }
   ],
   "source": [
    "# Проверка оператора sin()\n",
    "from scipy.misc import derivative\n",
    "\n",
    "def m(x: float) -> float:\n",
    "    return np.sin(x) + 2*x**2 + 3*x + 1\n",
    "\n",
    "derivative(m, 2.)"
   ]
  },
  {
   "cell_type": "code",
   "execution_count": 19,
   "metadata": {},
   "outputs": [
    {
     "data": {
      "text/plain": [
       "83.54930614433405"
      ]
     },
     "execution_count": 19,
     "metadata": {},
     "output_type": "execute_result"
    }
   ],
   "source": [
    "# Проверка оператора log()\n",
    "from scipy.misc import derivative\n",
    "\n",
    "def n(s: float) -> float:\n",
    "    return np.log(s) + 2*s**4 + 3*s + 1\n",
    "\n",
    "derivative(n, 2.)"
   ]
  },
  {
   "cell_type": "markdown",
   "metadata": {},
   "source": [
    "## Задание 1.4 (10 баллов)\n",
    "\n",
    "Необходимо разработать систему автоматического тестирования алгоритма дифференцирования в следующем виде:\n",
    "- реализовать механизм генерации \"случайных функций\" (например, что-то вроде такого: $f(x) = x + 5 * x - \\cos(20 * \\log(12 - 20 * x * x )) - 20 * x$ )\n",
    "- сгенерировать достаточно большое число функций и сравнить результаты символьного и численного дифференцирования в случайных точках "
   ]
  },
  {
   "cell_type": "markdown",
   "metadata": {},
   "source": [
    "Генерацию случайных функций можно осуществить, например, двумя путями. \n",
    "1. Генерировать функцию в текстовом виде, зачем использовать встроенную функцию [eval](https://docs.python.org/3/library/functions.html#eval)\n",
    "\n",
    "```python\n",
    "func = eval(\"lambda x: 2 * x + 5\")\n",
    "assert func(42) == 89 \n",
    "```\n",
    "\n",
    "2. Использовать стандартный модуль [ast](https://docs.python.org/3/library/ast.html), который позволяет во время выполнения программы манипулировать [Абстрактным Синтаксическим Деревом](https://ru.wikipedia.org/wiki/%D0%90%D0%B1%D1%81%D1%82%D1%80%D0%B0%D0%BA%D1%82%D0%BD%D0%BE%D0%B5_%D1%81%D0%B8%D0%BD%D1%82%D0%B0%D0%BA%D1%81%D0%B8%D1%87%D0%B5%D1%81%D0%BA%D0%BE%D0%B5_%D0%B4%D0%B5%D1%80%D0%B5%D0%B2%D0%BE).\n",
    "Например, выражение \n",
    "\n",
    "```python\n",
    "func = lambda x: 2 * x + 5\n",
    "```\n",
    "\n",
    "Можно запрограммировать с помощью кода:\n",
    "\n",
    "```python\n",
    "\n",
    "expr = ast.Expression(\n",
    "    body=ast.Lambda(\n",
    "        args=ast.arguments(\n",
    "            args=[\n",
    "                ast.arg(arg='x')\n",
    "            ],\n",
    "            posonlyargs=[],\n",
    "            kwonlyargs=[],\n",
    "            kw_defaults=[],\n",
    "            defaults=[]\n",
    "        ),\n",
    "        body=ast.BinOp(\n",
    "            left=ast.BinOp(\n",
    "                left=ast.Constant(value=2),\n",
    "                op=ast.Mult(),\n",
    "                right=ast.Name(id='x', ctx=ast.Load())\n",
    "            ),\n",
    "            op=ast.Add(),\n",
    "            right=ast.Constant(value=5)\n",
    "        )\n",
    "    )\n",
    ")\n",
    "\n",
    "ast.fix_missing_locations(expr)\n",
    "\n",
    "func = eval(compile(expr, filename=\"\", mode=\"eval\"))\n",
    "\n",
    "assert func(42) == 89\n",
    "```\n",
    "\n",
    "При реализации нужно учитывать области допустимых значений функций."
   ]
  },
  {
   "cell_type": "code",
   "execution_count": 20,
   "metadata": {},
   "outputs": [
    {
     "name": "stdout",
     "output_type": "stream",
     "text": [
      "log(sin(x))\n",
      "exp(x)\n",
      "6\n",
      "4\n",
      "x\n",
      "(sin(x) + ((4 / x) ** 7))\n",
      "0\n",
      "(x / sin((x / x)))\n",
      "x\n",
      "x\n"
     ]
    }
   ],
   "source": [
    "# генератор функций в виде строки\n",
    "\n",
    "import random\n",
    "import math\n",
    "import random\n",
    "from dataclasses import dataclass\n",
    "from typing import Callable, List, Union\n",
    "\n",
    "class FunctionGenerator:\n",
    "\n",
    "    Maxlevel: int = 5\n",
    "\n",
    "    def __init__(self, cmin: int = 0, cmax: int = 10) -> None:\n",
    "        self.c_range = (cmin, cmax)\n",
    "    def __gen_op(self, level: int) -> str:\n",
    "        return random.choice([\n",
    "            '({0} + {1})',\n",
    "            '({0} - {1})',\n",
    "            '({0} * {1})',\n",
    "            '({0} / {1})',\n",
    "            '({0} ** {1})',\n",
    "        ]).format(self.generate(level - 1), self.generate(level - 1))\n",
    "\n",
    "    def __gen_func(self, level: int) -> str:\n",
    "        if level >= self.Maxlevel:\n",
    "            return self.__gconst()\n",
    "        else:\n",
    "            return random.choice([\n",
    "                'cos({0})',\n",
    "                'sin({0})',\n",
    "                'exp({0})',\n",
    "                'log({0})',\n",
    "            ]).format( self.generate(level - 1))    \n",
    "\n",
    "    def __gen_leaf(self, level: int) -> str:\n",
    "        return random.choice([\n",
    "            'x',\n",
    "            'x',\n",
    "            'x',\n",
    "            'x',\n",
    "            str(random.randint(*self.c_range)),\n",
    "        ])\n",
    "\n",
    "    def __generate(self, level: int) -> str:\n",
    "        return random.choice([\n",
    "            self.__gen_func,\n",
    "            self.__gen_op,\n",
    "            self.__gen_leaf,\n",
    "        ])(level - 1)   \n",
    "\n",
    "    def generate(self, level: int = 5) -> str:\n",
    "        self.Maxlevel = level\n",
    "        return self.__generate(level)\n",
    "\n",
    "if __name__ == '__main__':\n",
    "    fg = FunctionGenerator()\n",
    "    for i in range(10):\n",
    "        print(fg.generate(5))\n",
    "\n"
   ]
  },
  {
   "cell_type": "markdown",
   "metadata": {},
   "source": [
    "## Задание 1.5 (7 баллов)\n",
    "\n",
    "Реализуйте поддержку функций нескольких аргументов. Например\n",
    "\n",
    "```python\n",
    "def f(x: float, y: float, z: float) -> float:\n",
    "    return x*y + z -5*y + 2*x\n",
    "\n",
    "\n",
    "f_diff = diff(f)\n",
    "\n",
    "f_diff(10, 10, 10) # = [10, 5, 1]\n",
    "```"
   ]
  },
  {
   "cell_type": "code",
   "execution_count": 21,
   "metadata": {},
   "outputs": [
    {
     "data": {
      "text/plain": [
       "52.0"
      ]
     },
     "execution_count": 21,
     "metadata": {},
     "output_type": "execute_result"
    }
   ],
   "source": [
    "# Test for matmul() operator\n",
    "def f(x: float, y: float, z: float) -> float:\n",
    "    return x*y + z -5*y + 2*x\n",
    "\n",
    "f_diff = diff2(f)\n",
    "\n",
    "# значение производной в точке x = 10 y = 20 z = 10\n",
    "f_diff(10 , 20, 10) "
   ]
  }
 ],
 "metadata": {
  "kernelspec": {
   "display_name": "Python 3.10.8 ('venv': venv)",
   "language": "python",
   "name": "python3"
  },
  "language_info": {
   "codemirror_mode": {
    "name": "ipython",
    "version": 3
   },
   "file_extension": ".py",
   "mimetype": "text/x-python",
   "name": "python",
   "nbconvert_exporter": "python",
   "pygments_lexer": "ipython3",
   "version": "3.10.9"
  },
  "orig_nbformat": 4,
  "vscode": {
   "interpreter": {
    "hash": "6e9739ebe2ec0abaf9248dad9fc364594080a4829db1ccaa47ee2a4572bf076c"
   }
  }
 },
 "nbformat": 4,
 "nbformat_minor": 2
}
