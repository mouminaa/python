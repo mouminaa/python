{
 "cells": [
  {
   "cell_type": "markdown",
   "metadata": {},
   "source": [
    "# Задание 2.\n",
    "\n",
    "**NB. Все упражнения ниже нужно делать без использования циклов Python в явном (`while`, `for`) и неявном виде (list comprehension, `map`, `reduce` и пр)**\n",
    "\n",
    "Задания по манипуляциям с массивами чаще всего решаются в одно/два выражения. "
   ]
  },
  {
   "cell_type": "code",
   "execution_count": 7,
   "metadata": {},
   "outputs": [
    {
     "data": {
      "text/plain": [
       "array([[46,  3, 97, ..., 63, 96, 28],\n",
       "       [38, 18, 66, ..., 98, 86, 13],\n",
       "       [ 0,  9, 39, ...,  7, 26, 84],\n",
       "       ...,\n",
       "       [40,  0, 83, ..., 49, 98, 88],\n",
       "       [98, 35, 23, ..., 61,  0, 51],\n",
       "       [20, 99, 18, ..., 67, 15, 30]])"
      ]
     },
     "execution_count": 7,
     "metadata": {},
     "output_type": "execute_result"
    }
   ],
   "source": [
    "%matplotlib inline\n",
    "\n",
    "import numpy as np\n",
    "import matplotlib.pyplot as plt\n",
    "import seaborn as sns\n",
    "sns.set_theme()\n",
    "\n",
    "M = np.random.randint(0, 100, size=(400, 100))\n",
    "M"
   ]
  },
  {
   "cell_type": "markdown",
   "metadata": {},
   "source": [
    "# Задание 2.1 (2 балла)\n",
    "\n",
    "Сгенерируйте новый массив, в котором столбцы массива `A` переставлены в случайном порядке"
   ]
  },
  {
   "cell_type": "code",
   "execution_count": 6,
   "metadata": {},
   "outputs": [
    {
     "name": "stdout",
     "output_type": "stream",
     "text": [
      "[[44 30  0 ... 78 43 73]\n",
      " [ 8 63  5 ... 30 23 34]\n",
      " [98  9 59 ... 85 80 61]\n",
      " ...\n",
      " [63 82 21 ... 49 17 56]\n",
      " [78  8  5 ... 18 89 65]\n",
      " [58 73  8 ...  8 24 42]]\n"
     ]
    }
   ],
   "source": [
    "#Сгенерируйте новый массив, в котором столбцы массива `A` переставлены в случайном порядке.\n",
    "\n",
    "M = np.random.randint(0, 100, size=(400, 100))\n",
    "np.random.shuffle(M.T)\n",
    "print(M)"
   ]
  },
  {
   "cell_type": "markdown",
   "metadata": {},
   "source": [
    "# Задание 2.2 (5 баллов)\n",
    "\n",
    "Сгенерируйте новый массив, который содержит только те строки массива `A`, в которых: \n",
    "- сумма элементов по четным столбцам (индексы $0, 2, \\ldots$) больше среднего значения (по всему массиву) суммы элементов по нечетным столбцам (индексы $1, 3, \\ldots$) "
   ]
  },
  {
   "cell_type": "code",
   "execution_count": 5,
   "metadata": {},
   "outputs": [
    {
     "name": "stdout",
     "output_type": "stream",
     "text": [
      "[[72 84 52 ... 55 78 79]\n",
      " [74 82 82 ... 92 62 40]\n",
      " [93 82 62 ... 96 24 26]\n",
      " ...\n",
      " [27 48 29 ... 64 91 18]\n",
      " [81 45 38 ... 91 24  6]\n",
      " [34 57 86 ... 99  1 23]]\n"
     ]
    }
   ],
   "source": [
    "#Generate a new array that contains only those rows of array `A` in which:\n",
    "# - the sum of elements in even columns (indexes 0, 2,...) is greater than the average value (across the entire array) of the sum of elements in odd columns (indexes 1, 3,...).\n",
    "\n",
    "M = np.random.randint(0, 100, size=(400, 100))\n",
    "B = M[:, ::2]\n",
    "C = M[:, 1::2]\n",
    "D = B.sum(axis=1) > C.sum(axis=1).mean()\n",
    "print(M[D])\n",
    "\n",
    "\n"
   ]
  },
  {
   "cell_type": "markdown",
   "metadata": {},
   "source": [
    "# Задача 2.3 (3 балла)\n",
    "\n",
    "Найдите индекс строки массива `A`, в которой разница между максимальным и минимальным элементом максимальна"
   ]
  },
  {
   "cell_type": "code",
   "execution_count": 8,
   "metadata": {},
   "outputs": [
    {
     "name": "stdout",
     "output_type": "stream",
     "text": [
      "3\n"
     ]
    }
   ],
   "source": [
    "# Find the index of the array string `M` in which the difference between the maximum and minimum element is maximal.\n",
    "\n",
    "M = np.random.randint(0, 100, size=(200, 50))\n",
    "difference = M.max(axis=1) - M.min(axis=1)\n",
    "print(difference.argmax())\n"
   ]
  },
  {
   "cell_type": "markdown",
   "metadata": {},
   "source": [
    "# Задание 2.4 (7 баллов)\n",
    "\n",
    "Сгенерируйте массив той же размерности, что и `A`, но в котором каждый элемент заменен на его порядковый номер (начиная с 1) в отсортированном по возрастанию массиве из элементов `A`\n",
    "\n",
    "Если `A` выглядит так:\n",
    "$$\n",
    "\\begin{pmatrix}\n",
    "12 & 14\\\\\n",
    "1 & 2\n",
    "\\end{pmatrix}\n",
    "$$\n",
    "то результат должен быть\n",
    "$$\n",
    "\\begin{pmatrix}\n",
    "3 & 4\\\\\n",
    "1 & 2\n",
    "\\end{pmatrix}\n",
    "$$\n",
    "\n",
    "*Tip: рассмотрите возможность неоднократного применения [argsort()](https://numpy.org/doc/stable/reference/generated/numpy.ndarray.argsort.html)*"
   ]
  },
  {
   "cell_type": "code",
   "execution_count": 9,
   "metadata": {},
   "outputs": [
    {
     "name": "stdout",
     "output_type": "stream",
     "text": [
      "[[    0   403   404 ...   358   359   360]\n",
      " [  353   306   457 ...   509   510   511]\n",
      " [  512   513   514 ...   150    45    47]\n",
      " ...\n",
      " [59778 59749 59768 ... 59895 59896 59897]\n",
      " [59898 59899 59900 ... 59470 59472 59473]\n",
      " [59474 59475 59476 ... 59621 59615 59999]]\n",
      "[[50 66  4 ...  6 55 41]\n",
      " [94 22 61 ...  0 69  4]\n",
      " [30  1 66 ... 89 51 43]\n",
      " ...\n",
      " [33 72 15 ... 21 77 91]\n",
      " [51 48 72 ... 33 36 19]\n",
      " [38 39 89 ...  3 52 25]]\n"
     ]
    }
   ],
   "source": [
    "# Generate an array of the same dimension as `A`, but in which each element is replaced by its ordinal number (starting from 1) in an ascending array of `A` elements.\n",
    "\n",
    "M = np.random.randint(0, 100, size=(400, 150))\n",
    "B = np.sort(M, axis=None)\n",
    "C = np.argsort(B)\n",
    "print(C.reshape(M.shape))\n",
    "print(M)\n",
    "\n"
   ]
  },
  {
   "cell_type": "markdown",
   "metadata": {},
   "source": [
    "# Задание 2.5 (2 балла)\n",
    "\n",
    "Примените $\\min-\\max$ - нормализацию к строкам массива `A`. То есть нужно получить новый массивы, в каждой строке которого максимальный элементы равен $1$, минимальный - $0$. "
   ]
  },
  {
   "cell_type": "code",
   "execution_count": 10,
   "metadata": {},
   "outputs": [
    {
     "name": "stdout",
     "output_type": "stream",
     "text": [
      "[[0.37113402 0.11340206 0.34020619 ... 0.25773196 0.22680412 0.        ]\n",
      " [0.76344086 0.05376344 0.19354839 ... 0.7311828  0.09677419 0.75268817]\n",
      " [0.68085106 0.87234043 0.94680851 ... 0.30851064 0.82978723 0.19148936]\n",
      " ...\n",
      " [0.93814433 0.98969072 0.77319588 ... 0.36082474 0.97938144 0.77319588]\n",
      " [0.         0.72164948 0.97938144 ... 0.4742268  0.84536082 0.59793814]\n",
      " [0.44329897 0.5257732  0.03092784 ... 0.43298969 0.30927835 0.60824742]]\n"
     ]
    }
   ],
   "source": [
    "# Apply min-max normalization to the rows of array `A'. \n",
    "# That is, you need to get a new array, in each row of which the maximum element is 1, the minimum is 0.\n",
    "\n",
    "A = np.random.randint(0, 100, size=(200, 50))\n",
    "B = A.max(axis=1)\n",
    "C = A.min(axis=1)\n",
    "D = (A - C[:, np.newaxis]) / (B - C)[:, np.newaxis]\n",
    "print(D)\n"
   ]
  },
  {
   "cell_type": "markdown",
   "metadata": {},
   "source": [
    "# Задание 2.6 (2 балла)\n",
    "\n",
    "Сгенерируйте новый трехмерный массив, размерности $10 \\times 200 \\times 50$. Подмассивы по нулевой оси должны состоять из элементов `A`, умноженных на $1 - 10$ соответственно"
   ]
  },
  {
   "cell_type": "code",
   "execution_count": 11,
   "metadata": {},
   "outputs": [
    {
     "name": "stdout",
     "output_type": "stream",
     "text": [
      "(10, 200, 50)\n",
      "[[[ 85  42  93 ...   0  90  97]\n",
      "  [ 77   4  52 ...  78  67  52]\n",
      "  [ 40  78  70 ...  69  63  92]\n",
      "  ...\n",
      "  [ 40  89  24 ...  43  47  35]\n",
      "  [ 44  96  49 ...  35  12  27]\n",
      "  [ 42   8  50 ...  57  72  12]]\n",
      "\n",
      " [[170  84 186 ...   0 180 194]\n",
      "  [154   8 104 ... 156 134 104]\n",
      "  [ 80 156 140 ... 138 126 184]\n",
      "  ...\n",
      "  [ 80 178  48 ...  86  94  70]\n",
      "  [ 88 192  98 ...  70  24  54]\n",
      "  [ 84  16 100 ... 114 144  24]]\n",
      "\n",
      " [[255 126 279 ...   0 270 291]\n",
      "  [231  12 156 ... 234 201 156]\n",
      "  [120 234 210 ... 207 189 276]\n",
      "  ...\n",
      "  [120 267  72 ... 129 141 105]\n",
      "  [132 288 147 ... 105  36  81]\n",
      "  [126  24 150 ... 171 216  36]]\n",
      "\n",
      " ...\n",
      "\n",
      " [[680 336 744 ...   0 720 776]\n",
      "  [616  32 416 ... 624 536 416]\n",
      "  [320 624 560 ... 552 504 736]\n",
      "  ...\n",
      "  [320 712 192 ... 344 376 280]\n",
      "  [352 768 392 ... 280  96 216]\n",
      "  [336  64 400 ... 456 576  96]]\n",
      "\n",
      " [[765 378 837 ...   0 810 873]\n",
      "  [693  36 468 ... 702 603 468]\n",
      "  [360 702 630 ... 621 567 828]\n",
      "  ...\n",
      "  [360 801 216 ... 387 423 315]\n",
      "  [396 864 441 ... 315 108 243]\n",
      "  [378  72 450 ... 513 648 108]]\n",
      "\n",
      " [[850 420 930 ...   0 900 970]\n",
      "  [770  40 520 ... 780 670 520]\n",
      "  [400 780 700 ... 690 630 920]\n",
      "  ...\n",
      "  [400 890 240 ... 430 470 350]\n",
      "  [440 960 490 ... 350 120 270]\n",
      "  [420  80 500 ... 570 720 120]]]\n"
     ]
    }
   ],
   "source": [
    "# Generate a new three-dimensional array of dimensions 10x200x50. The subarrays along the zero axis should consist of elements `A` multiplied by 1 - 10, respectively.\n",
    "\n",
    "A = np.random.randint(0, 100, size=(200, 50))\n",
    "B = np.arange(1, 11)\n",
    "C = A * B[:, np.newaxis, np.newaxis]\n",
    "print(C.shape)\n",
    "print(C)\n"
   ]
  },
  {
   "cell_type": "markdown",
   "metadata": {},
   "source": [
    "# Задание 2.7 (2 балла)\n",
    "\n",
    "Создайте новый массив, такой же размерности, как и `A`, в котором сначала сгруппированы четные столбцы `A`, потом  нечетные. Используйте [np.concat()](https://numpy.org/doc/stable/reference/generated/numpy.concatenate.html) "
   ]
  },
  {
   "cell_type": "code",
   "execution_count": 12,
   "metadata": {},
   "outputs": [
    {
     "name": "stdout",
     "output_type": "stream",
     "text": [
      "[[27 89 60 ... 25 24  1]\n",
      " [84 42 41 ... 29 28 34]\n",
      " [83 55 66 ... 66 10  1]\n",
      " ...\n",
      " [58 40 57 ...  5 71 94]\n",
      " [39 87 42 ... 56 90 79]\n",
      " [93 40 26 ... 55 68 88]]\n"
     ]
    }
   ],
   "source": [
    "# Create a new array of the same dimension as `A`, in which the even columns of `A` are grouped first, then the odd ones. Use [np.concat()] (https://numpy.org/doc/stable/reference/generated/numpy.concatenate.html).\n",
    "\n",
    "A = np.random.randint(0, 100, size=(200, 50))\n",
    "B = A[:, ::2]\n",
    "C = A[:, 1::2]\n",
    "D = np.concatenate((B, C), axis=1)\n",
    "print(D)\n"
   ]
  },
  {
   "cell_type": "markdown",
   "metadata": {},
   "source": [
    "# Задание 2.8 (2 балла)\n",
    "\n",
    "Посчитайте количество строк массива `A`, в который все элементы больше 5. Используйте [np.all()](https://numpy.org/doc/stable/reference/generated/numpy.all.html) "
   ]
  },
  {
   "cell_type": "code",
   "execution_count": 13,
   "metadata": {},
   "outputs": [
    {
     "name": "stdout",
     "output_type": "stream",
     "text": [
      "14\n"
     ]
    }
   ],
   "source": [
    "# Count the number of rows of the array `A`, in which all elements are greater than 5. Use [np.all()](https://numpy.org/doc/stable/reference/generated/numpy.all.html ).\n",
    "\n",
    "A = np.random.randint(0, 100, size=(200, 50))\n",
    "B = A > 5\n",
    "C = np.all(B, axis=1)\n",
    "print(C.sum())\n",
    "\n"
   ]
  },
  {
   "cell_type": "markdown",
   "metadata": {},
   "source": [
    "# Задание 2.9 (2 балла)\n",
    "\n",
    "Поделите массив `A` горизонтально на 10 частей и создайте новый массив размерности $20 \\times 50$, который является средним этих частей. Используйте [np.split()](https://numpy.org/doc/stable/reference/generated/numpy.split.html)"
   ]
  },
  {
   "cell_type": "code",
   "execution_count": 14,
   "metadata": {},
   "outputs": [
    {
     "name": "stdout",
     "output_type": "stream",
     "text": [
      "(20, 50)\n",
      "[[48.3 56.8 37.  56.1 40.5 59.9 38.7 31.8 23.3 46.3 53.  37.8 48.5 44.\n",
      "  52.6 50.8 62.6 29.6 47.8 60.7 57.8 52.  61.2 53.5 55.  43.7 55.4 51.\n",
      "  58.9 28.  57.  35.6 38.4 45.1 48.7 51.  67.8 42.7 61.9 39.9 58.  51.4\n",
      "  42.4 63.8 43.  46.3 40.4 49.5 57.3 56.1]\n",
      " [50.2 40.9 64.3 56.8 41.8 48.1 55.7 43.9 49.  49.5 59.8 50.  59.  47.6\n",
      "  51.6 62.4 42.  48.1 42.9 55.2 47.3 50.2 46.2 59.3 64.  51.2 37.8 58.5\n",
      "  58.5 61.9 40.5 31.6 58.9 52.2 47.9 37.  64.5 57.9 54.  38.9 47.5 41.6\n",
      "  41.6 49.5 62.4 42.5 49.2 58.8 47.8 48.4]\n",
      " [45.5 59.6 48.9 56.9 62.9 48.7 53.4 57.2 50.3 53.1 53.6 54.6 59.9 61.8\n",
      "  30.7 45.1 56.3 38.3 53.1 51.9 44.3 31.2 63.7 46.9 52.  22.9 52.8 47.9\n",
      "  39.  31.3 50.5 60.5 51.6 42.2 49.6 63.  41.5 42.  40.3 49.3 37.5 54.6\n",
      "  51.1 41.9 60.3 31.8 65.6 53.2 52.3 46.5]\n",
      " [33.7 55.7 55.3 42.  51.5 44.9 57.9 49.4 39.4 51.8 55.7 35.5 62.9 52.9\n",
      "  44.5 51.9 49.4 54.7 50.8 38.6 28.9 55.2 38.1 35.8 50.3 52.6 36.8 57.3\n",
      "  45.4 45.1 41.2 45.3 27.7 53.2 27.9 55.3 55.4 44.5 61.4 42.7 48.9 39.5\n",
      "  19.7 46.4 48.5 56.4 54.5 60.7 53.7 43. ]\n",
      " [37.1 46.9 44.4 61.3 55.7 51.1 55.9 47.5 60.9 34.9 47.8 35.9 39.6 39.6\n",
      "  58.5 56.5 62.7 63.7 33.  54.  40.4 41.6 46.3 47.3 56.6 58.7 55.2 60.4\n",
      "  69.2 36.4 51.5 42.  28.4 45.2 40.9 57.7 47.1 53.3 45.9 56.1 43.2 55.9\n",
      "  33.2 28.6 43.  49.1 65.4 46.5 55.3 60. ]\n",
      " [44.1 62.8 66.7 33.9 44.1 52.8 62.4 44.  47.1 52.4 40.9 41.9 48.5 57.4\n",
      "  61.1 48.4 35.8 57.7 66.8 57.2 60.8 40.4 46.4 50.6 49.6 48.3 42.1 55.9\n",
      "  64.5 42.5 46.  63.8 53.5 49.7 46.7 49.8 38.7 34.4 43.8 44.6 43.2 53.9\n",
      "  51.8 37.2 30.6 51.3 39.2 66.  58.1 36.6]\n",
      " [54.5 57.9 32.1 52.3 37.5 65.2 56.  47.8 67.7 56.8 46.1 57.4 67.8 50.7\n",
      "  26.9 58.5 46.1 54.8 58.6 52.7 43.7 56.2 40.  61.1 54.7 44.9 45.1 67.3\n",
      "  48.8 45.2 53.9 30.3 50.  40.8 55.  55.  45.8 36.2 53.3 44.7 49.3 57.9\n",
      "  37.7 52.9 41.9 46.1 58.9 43.6 56.8 37.4]\n",
      " [38.7 46.2 40.5 56.6 46.  56.4 49.6 57.1 49.5 54.6 66.7 32.9 38.9 65.\n",
      "  70.5 55.  42.9 65.  55.4 39.6 39.6 55.7 40.3 45.9 50.6 43.  49.4 36.1\n",
      "  49.5 43.3 65.8 40.9 52.2 55.9 47.5 72.3 45.4 49.9 56.2 51.2 34.9 48.6\n",
      "  48.1 45.3 46.2 52.7 51.5 42.5 33.5 61.1]\n",
      " [48.  50.3 45.  50.  54.1 52.2 43.2 48.6 43.5 56.2 50.9 43.8 50.3 38.1\n",
      "  37.8 49.  45.6 42.2 39.  57.3 73.4 32.  62.9 68.  55.1 50.6 42.8 50.3\n",
      "  49.1 49.8 58.4 44.9 43.6 39.3 42.4 55.2 48.3 48.4 48.9 48.6 37.  37.\n",
      "  50.3 43.5 37.  31.7 50.3 58.9 42.  56.7]\n",
      " [51.9 59.8 60.9 55.4 58.9 48.3 38.7 40.1 52.9 53.7 36.2 45.1 50.8 49.6\n",
      "  36.5 63.2 46.7 63.5 45.5 57.9 44.6 47.8 46.8 45.7 44.4 61.7 42.  58.2\n",
      "  40.5 33.9 48.2 59.4 46.6 37.7 55.2 59.6 44.  43.  46.4 53.7 45.2 47.2\n",
      "  20.  50.6 54.7 34.5 52.9 64.6 46.6 37.6]\n",
      " [53.5 46.7 46.7 58.9 45.2 33.9 48.4 70.4 34.  66.8 38.3 65.2 47.  49.5\n",
      "  47.7 55.7 67.  49.7 43.2 47.6 61.8 49.2 55.3 49.2 80.7 48.8 58.6 52.\n",
      "  41.2 46.4 53.2 35.9 39.4 49.1 49.7 55.3 55.4 45.2 49.6 48.7 60.6 46.\n",
      "  58.8 55.4 44.1 51.1 58.7 43.4 48.2 45.4]\n",
      " [59.8 61.7 47.9 51.4 45.7 58.8 54.6 40.2 52.2 54.  47.8 47.5 53.3 33.8\n",
      "  38.2 43.5 62.7 39.4 56.8 49.  56.2 48.  33.  52.3 42.1 51.3 52.2 43.8\n",
      "  33.8 42.3 54.4 58.9 55.4 45.8 57.8 55.1 47.6 47.1 47.7 36.1 56.5 52.3\n",
      "  41.4 50.7 43.4 44.8 42.2 67.4 61.7 53.5]\n",
      " [50.4 55.7 47.  51.8 59.9 51.9 44.4 46.6 42.1 57.2 68.4 53.7 50.3 39.1\n",
      "  39.9 40.3 45.8 40.4 44.  38.8 32.2 47.5 52.1 64.5 50.1 41.  41.7 54.2\n",
      "  56.  27.8 57.8 36.4 55.9 47.3 49.7 42.5 55.4 45.4 36.8 42.8 51.4 51.\n",
      "  44.7 47.9 55.7 49.5 45.  44.5 57.1 41.2]\n",
      " [58.9 56.9 46.5 42.3 55.5 48.8 37.9 45.6 42.1 52.4 47.4 51.6 47.7 46.\n",
      "  52.7 58.4 38.5 50.4 51.9 56.1 66.3 40.3 63.  56.5 41.1 42.4 56.  53.1\n",
      "  37.5 42.5 49.4 55.6 47.1 57.  55.6 54.4 57.5 56.7 44.9 56.5 34.5 49.1\n",
      "  43.9 41.1 61.2 37.2 63.7 35.3 50.3 41.4]\n",
      " [51.5 52.2 53.9 44.5 53.9 43.4 61.7 32.4 32.9 36.5 40.3 59.  56.4 41.3\n",
      "  59.2 38.2 33.6 62.2 47.6 46.  42.1 51.8 42.6 54.1 48.8 48.1 45.3 24.6\n",
      "  57.  66.2 49.3 47.5 36.  49.6 55.2 28.7 32.7 19.8 38.2 46.7 46.7 61.9\n",
      "  47.4 36.6 48.1 41.5 28.9 40.8 49.7 49.1]\n",
      " [52.3 49.8 56.8 51.  59.  44.8 55.8 61.7 57.7 35.2 57.1 40.6 51.1 54.8\n",
      "  47.1 50.2 46.9 59.4 58.2 42.1 38.6 65.  45.8 49.8 51.  41.8 52.7 46.1\n",
      "  53.1 38.3 49.  64.6 54.5 56.5 49.4 65.8 61.5 50.1 43.4 60.8 53.  55.7\n",
      "  49.8 44.9 44.6 52.1 50.9 57.5 58.2 47.9]\n",
      " [42.  46.3 30.6 52.  36.5 51.9 36.2 46.1 57.3 37.4 48.4 53.4 54.7 46.1\n",
      "  66.8 48.2 45.8 55.9 57.8 46.4 54.5 56.8 38.4 57.6 42.7 51.2 52.1 55.4\n",
      "  46.7 49.3 41.8 46.  64.7 71.4 56.9 67.7 63.1 47.7 59.9 61.  40.  37.7\n",
      "  27.4 56.4 56.4 65.2 51.8 34.8 47.6 55.7]\n",
      " [41.9 29.5 48.6 53.4 50.7 47.7 48.8 37.6 49.  62.  41.  65.  53.4 45.3\n",
      "  50.6 46.5 60.8 59.7 48.4 38.1 42.9 49.  51.3 41.2 44.7 29.6 50.4 34.3\n",
      "  47.3 53.7 37.1 58.5 48.5 52.3 55.4 37.7 55.2 40.3 53.8 44.4 67.4 55.2\n",
      "  56.1 54.6 52.9 44.6 48.7 46.4 46.  52.7]\n",
      " [51.6 50.4 42.6 42.2 43.  43.3 51.9 54.8 61.4 47.  47.1 44.7 56.6 39.8\n",
      "  50.9 48.4 45.  46.9 29.7 54.5 55.2 50.9 54.4 56.8 59.5 36.4 42.4 49.8\n",
      "  53.9 41.6 52.1 54.4 52.  56.4 60.8 62.4 43.1 55.6 47.1 36.  60.7 51.3\n",
      "  56.3 50.4 37.5 52.9 36.6 57.  60.7 47.3]\n",
      " [43.  51.8 36.9 44.3 52.2 69.4 49.7 67.9 49.3 32.7 55.  51.2 30.3 41.3\n",
      "  36.4 48.8 75.6 57.8 49.8 53.8 59.3 57.1 63.4 41.7 48.6 41.1 52.8 49.1\n",
      "  46.7 44.6 58.1 50.4 33.  46.7 68.3 43.9 35.2 56.6 35.6 48.9 54.6 35.5\n",
      "  36.2 47.5 67.  50.2 61.5 49.7 53.9 37.9]]\n"
     ]
    }
   ],
   "source": [
    "# Divide the array `A` horizontally into 10 parts and create a new array of dimension 20x50, which is the average of these parts. Use [np.split()](https://numpy.org/doc/stable/reference/generated/numpy.split.html ).\n",
    "\n",
    "A = np.random.randint(0, 100, size=(200, 50))\n",
    "B = np.split(A, 10, axis=0)\n",
    "C = np.mean(B, axis=0)\n",
    "print(C.shape)\n",
    "print(C)\n",
    "\n"
   ]
  },
  {
   "cell_type": "markdown",
   "metadata": {},
   "source": [
    "# Задание 2.10 (4 балла)\n",
    "\n",
    "\"Разверните\" массив `A` в одномерный массив. Оставьте в нём только уникальные элементы в том же порядке, в котором они встречаются в массиве. Используйте [np.unique()](https://numpy.org/doc/stable/reference/generated/numpy.unique.html)"
   ]
  },
  {
   "cell_type": "code",
   "execution_count": 15,
   "metadata": {},
   "outputs": [
    {
     "name": "stdout",
     "output_type": "stream",
     "text": [
      "(100,)\n",
      "[ 0  1  2  3  4  5  6  7  8  9 10 11 12 13 14 15 16 17 18 19 20 21 22 23\n",
      " 24 25 26 27 28 29 30 31 32 33 34 35 36 37 38 39 40 41 42 43 44 45 46 47\n",
      " 48 49 50 51 52 53 54 55 56 57 58 59 60 61 62 63 64 65 66 67 68 69 70 71\n",
      " 72 73 74 75 76 77 78 79 80 81 82 83 84 85 86 87 88 89 90 91 92 93 94 95\n",
      " 96 97 98 99]\n"
     ]
    }
   ],
   "source": [
    "#\"Expand\" the array `A` into a one-dimensional array. Leave only the unique elements in it in the same order in which they occur in the array. Use [np.unique()](https://numpy.org/doc/stable/reference/generated/numpy.unique.html ).\n",
    "\n",
    "A = np.random.randint(0, 100, size=(200, 50))\n",
    "B = np.unique(A)\n",
    "print(B.shape)\n",
    "print(B)\n",
    "\n"
   ]
  },
  {
   "cell_type": "markdown",
   "metadata": {},
   "source": [
    "# Задание 2.11 (3 балла)\n",
    "\n",
    "Создайте одномерный массив размерности $200$, в котором каждый элемент - евклидово расстояние между соответствующей строкой `A` и \"средней\" строкой `A`"
   ]
  },
  {
   "cell_type": "code",
   "execution_count": 16,
   "metadata": {},
   "outputs": [
    {
     "name": "stdout",
     "output_type": "stream",
     "text": [
      "(200,)\n",
      "[188.58552635 219.84785819 223.00459805 188.0166236  210.89559206\n",
      " 206.57120019 221.43010353 200.33891472 197.47840578 200.16555835\n",
      " 204.62250793 191.17131257 215.61734798 209.10655358 180.58856761\n",
      " 209.30848227 197.74380079 214.46142019 194.42770057 185.05134625\n",
      " 225.04270872 224.85982467 213.37600791 201.32210696 203.5487675\n",
      " 200.57180946 202.83653702 210.14635555 206.00342412 205.52761554\n",
      " 204.67630725 194.10780703 197.74005854 221.2082972  192.07753838\n",
      " 221.48763114 202.7805236  190.03410418 200.07551262 204.99527007\n",
      " 201.91968886 183.59542682 220.38573173 187.36232479 192.64202748\n",
      " 217.04753108 211.52628856 190.86139146 206.27569113 187.31647218\n",
      " 182.23742961 214.05396691 224.52158192 184.29180869 184.70820434\n",
      " 183.78348879 215.39243429 208.70462561 186.28784381 205.06962415\n",
      " 210.21448749 203.56537218 208.95128798 200.8573393  204.81692008\n",
      " 206.93675544 186.50933154 213.62783234 220.47993276 202.78232356\n",
      " 157.91466287 160.95990417 207.45920262 225.41486364 172.17293849\n",
      " 233.13346124 200.14075235 214.97702377 221.65944769 206.08020465\n",
      " 180.28375065 191.14293278 202.07968911 164.46726346 202.13653987\n",
      " 201.53007406 233.68207195 224.69871106 189.31104234 199.23742307\n",
      " 206.91544348 203.32938978 199.66031341 220.10745274 191.99888216\n",
      " 226.25222817 210.66333509 203.98436398 201.42892233 215.47672902\n",
      " 215.47078862 188.01888402 205.28646022 185.53105064 191.31516079\n",
      " 200.20632045 201.34833188 178.81127132 210.74328162 182.42395882\n",
      " 195.02799991 195.69024184 219.72558055 209.09806491 204.43974846\n",
      " 199.86070337 209.72119766 196.40644274 177.32594494 206.78885548\n",
      " 199.83017978 214.65926663 210.55612257 200.63985334 203.42962112\n",
      " 188.33961546 197.8604325  213.38195976 208.30835497 214.7453393\n",
      " 192.07082222 204.28059318 201.2485795  199.90295333 220.3651759\n",
      " 186.87849194 207.14253728 196.53727573 202.94090458 178.83274518\n",
      " 217.34601618 193.26347495 196.62357628 213.74517714 210.61949281\n",
      " 218.39329374 187.02890351 215.72837261 215.8338962  207.80604118\n",
      " 206.28209023 194.47886967 218.4565649  215.75395883 183.90046425\n",
      " 205.14049027 198.37363925 204.04639362 195.08395821 184.45877792\n",
      " 205.56410375 189.95860273 195.78794843 184.07156421 230.55322759\n",
      " 210.88651154 200.70062469 181.02475176 204.57055201 218.78818695\n",
      " 204.40261923 187.51234826 180.26622188 187.40648535 229.87855652\n",
      " 197.51625439 225.39756154 222.70469405 218.09087727 228.56946592\n",
      " 227.33789994 204.1192562  197.20438826 202.8671505  192.12920327\n",
      " 211.40948595 192.70908321 181.75714773 206.88458316 192.79061375\n",
      " 221.21128079 200.51142299 228.87372228 212.77013594 209.75144994\n",
      " 187.75324431 221.73639924 200.33025421 198.9336089  187.80716373]\n"
     ]
    }
   ],
   "source": [
    "# Create a one-dimensional array of dimension 200, in which each element is the Euclidean distance between the corresponding row `A` and the \"middle\" row `A`. Use [np.linalg.norm()](https://numpy.org/doc/stable/reference/generated/numpy.linalg.norm.html ).\n",
    "\n",
    "A = np.random.randint(0, 100, size=(200, 50))\n",
    "B = A.mean(axis=0)\n",
    "C = np.sqrt(((A - B) ** 2).sum(axis=1))\n",
    "print(C.shape)\n",
    "print(C)"
   ]
  },
  {
   "cell_type": "markdown",
   "metadata": {},
   "source": [
    "# Задание 2.12 (2 балла)\n",
    "\n",
    "Создайте новый массив, который состоит из элементов `A`, измененных по следующим правилам:\n",
    "- если элемент меньше $50$, то он умножается на $2$\n",
    "- в противном случае он умножается на $3$\n",
    "\n",
    "Используйте [np.where()](https://numpy.org/doc/stable/reference/generated/numpy.where.html)"
   ]
  },
  {
   "cell_type": "code",
   "execution_count": 17,
   "metadata": {},
   "outputs": [
    {
     "name": "stdout",
     "output_type": "stream",
     "text": [
      "[[213  60 282 ...  98  40  26]\n",
      " [234  28  42 ...  56  42 282]\n",
      " [192  98  44 ...  30 189 198]\n",
      " ...\n",
      " [156   6 273 ... 186 267  50]\n",
      " [219 258  36 ... 267  10  94]\n",
      " [ 88  70   4 ... 270 216 156]]\n"
     ]
    }
   ],
   "source": [
    "# Create a new array that consists of `A` elements modified according to the following rules:\n",
    "# - if the element is less than 50, then it is multiplied by 2;\n",
    "# - otherwise it is multiplied by 3.\n",
    "# Use [np.where()](https://numpy.org/doc/stable/reference/generated/numpy.where.html ).\n",
    "\n",
    "A = np.random.randint(0, 100, size=(200, 50))\n",
    "B = np.where(A < 50, A * 2, A * 3)\n",
    "print(B)\n"
   ]
  },
  {
   "cell_type": "markdown",
   "metadata": {},
   "source": [
    "# Задание 2.13 (7 баллов)\n",
    "\n",
    "Разверните массив `A` в одномерный массив. Создайте три новых массива, подсчитав скользящие средние по окнам $3$, $5$, $10$. Найдите сумму этих массивов, выровнив из размерности нулями справа\n",
    "\n",
    "*Tip: реализуйте функцию, которая считает скользящее среднее. Используйте [np.cumsum()](https://numpy.org/doc/stable/reference/generated/numpy.cumsum.html) или [np.convolve()](https://numpy.org/doc/stable/reference/generated/numpy.convolve.html)*"
   ]
  },
  {
   "cell_type": "code",
   "execution_count": 18,
   "metadata": {},
   "outputs": [
    {
     "name": "stdout",
     "output_type": "stream",
     "text": [
      "[29235. 30763. 29160. 27206. 28630. 29161. 28525. 28470. 29421. 29217.\n",
      " 29352. 29526. 27217. 30728. 29383. 27287. 27966. 29607. 29166. 30573.\n",
      " 30216. 29637. 31081. 29700. 30277. 29383. 26983. 29186. 30123. 30114.\n",
      " 31424. 28179. 29775. 31228. 28579. 28762. 30368. 31591. 28735. 31485.\n",
      " 28654. 28988. 29779. 26935. 29987. 28965. 30794. 30176. 28204. 28597.]\n",
      "[48345. 51008. 48218. 45076. 47394. 48338. 47073. 47226. 48583. 48187.\n",
      " 48478. 48936. 45116. 50848. 48526. 44955. 46303. 48745. 48237. 50309.\n",
      " 50007. 48952. 51380. 49355. 50118. 48713. 44488. 48519. 49883. 49720.\n",
      " 51758. 46479. 49383. 51739. 47202. 47449. 50285. 52282. 47583. 51883.\n",
      " 47512. 47871. 49357. 44359. 49719. 47993. 50904. 49886. 46619. 47325.]\n",
      "[ 94210.  99599.  94128.  88656.  92587.  94482.  91321.  92716.  94717.\n",
      "  93680.  94601.  96263.  88071.  98941.  94697.  87059.  90355.  95135.\n",
      "  94091.  97202.  97627.  95474.  99743.  96336.  98419.  95709.  86700.\n",
      "  95057.  97327.  96466. 100216.  90299.  96972. 100815.  92586.  92629.\n",
      "  98130. 101975.  92851. 101529.  93036.  93591.  96171.  85680.  97311.\n",
      "  94074.  99676.  97875.  91441.  92717.]\n"
     ]
    }
   ],
   "source": [
    "# Expand the array `A` into a one-dimensional array. Create three new arrays by calculating the moving averages of the windows 3, 5, 10. Find the sum of these arrays by aligning from the dimension with zeros on the right\n",
    "# *Tip: Implement a function that counts the moving average. Use [np.cumsum()](https://numpy.org/doc/stable/reference/generated/numpy.cumsum.html ) or [np.convolve()](https://numpy.org/doc/stable/reference/generated/numpy.convolve.html )*\n",
    "\n",
    "A = np.random.randint(0, 100, size=(200, 50))\n",
    "B = np.concatenate((A, np.zeros((2, 50))), axis=0)\n",
    "C = np.cumsum(B, axis=0)\n",
    "D = C[3:] - C[:-3]\n",
    "E = np.cumsum(B, axis=0)\n",
    "F = E[5:] - E[:-5]\n",
    "G = np.cumsum(B, axis=0)\n",
    "H = G[10:] - G[:-10]\n",
    "print(D.sum(axis=0))\n",
    "print(F.sum(axis=0))\n",
    "print(H.sum(axis=0))\n"
   ]
  },
  {
   "cell_type": "markdown",
   "metadata": {},
   "source": [
    "# Задание 2.14 (8 баллов)\n",
    "\n",
    "Постройте график функции $$f(x) = (5  \\sin(2x) - \\cos^2(x) - 1 + |x^3| - x^2) / (x^2 + 1)$$  \n",
    "\n",
    "и производной от этой функции.  Найдите минимум с помощью `scipy` и обозначьте его на графике. На этой же оси постройте графики скользящего среднего этой функции с окном $1$, $2$, $5$."
   ]
  },
  {
   "cell_type": "code",
   "execution_count": null,
   "metadata": {},
   "outputs": [],
   "source": [
    "\n"
   ]
  },
  {
   "cell_type": "markdown",
   "metadata": {},
   "source": [
    "# Задание 2.15 (10 баллов)\n",
    "\n",
    "Есть следующий алгоритм семплинирования, на вход функции подается вектор из целых положительных чисел и число семплов."
   ]
  },
  {
   "cell_type": "code",
   "execution_count": 19,
   "metadata": {},
   "outputs": [
    {
     "data": {
      "text/plain": [
       "[0, 0, 4, 4, 0]"
      ]
     },
     "execution_count": 19,
     "metadata": {},
     "output_type": "execute_result"
    }
   ],
   "source": [
    "from typing import List \n",
    "\n",
    "def sample(x: List[int], c: int) -> List[int]:\n",
    "    assert len(x) > 0\n",
    "    \n",
    "    s = np.sum(x)\n",
    "    res = []\n",
    "    for _ in range(c):\n",
    "        val = s * np.random.random()\n",
    "        cur, idx = 0, 0        \n",
    "        while cur + x[idx] <= val:\n",
    "            cur += x[idx]\n",
    "            idx += 1\n",
    "            \n",
    "        res.append(idx)\n",
    "    return res\n",
    "\n",
    "            \n",
    "sample([50, 3, 1, 7, 20], 5)  \n",
    "\n",
    "\n"
   ]
  },
  {
   "cell_type": "markdown",
   "metadata": {},
   "source": [
    "Реализуйте данный алгоритм более оптимальным способом на массивах `numpy`, без использования циклов. Проверьте корректность и идентичность алгоритмов семплирования с помощью статистических тестов."
   ]
  },
  {
   "cell_type": "code",
   "execution_count": 20,
   "metadata": {},
   "outputs": [
    {
     "data": {
      "text/plain": [
       "array([4, 0, 0, 0, 4], dtype=int64)"
      ]
     },
     "execution_count": 20,
     "metadata": {},
     "output_type": "execute_result"
    }
   ],
   "source": [
    "# Implement this algorithm in a more optimal way on `numpy` arrays, without using loops. Check the correctness and identity of sampling algorithms using statistical tests.\n",
    "def sample(x: np.ndarray, c: int) -> np.ndarray:\n",
    "    assert len(x) > 0\n",
    "    \n",
    "    s = np.sum(x)\n",
    "    val = s * np.random.random(size=c)\n",
    "    idx = np.searchsorted(np.cumsum(x), val)\n",
    "    return idx\n",
    "\n",
    "# test\n",
    "sample(np.array([50, 3, 1, 7, 20]), 5)\n"
   ]
  },
  {
   "cell_type": "markdown",
   "metadata": {},
   "source": [
    "# Задание 2.16 (5 баллов)\n",
    "\n",
    "Есть следующий алгоритм \"случайного блуждания\""
   ]
  },
  {
   "cell_type": "code",
   "execution_count": 21,
   "metadata": {},
   "outputs": [
    {
     "data": {
      "text/plain": [
       "7.32942809999804"
      ]
     },
     "execution_count": 21,
     "metadata": {},
     "output_type": "execute_result"
    }
   ],
   "source": [
    "import random\n",
    "import timeit \n",
    "\n",
    "def walk(n: int):\n",
    "    cur_position = 0\n",
    "    for i in range(n):\n",
    "        cur_position += random.choice([-3, -1, 0, 2, 3])\n",
    "\n",
    "    return cur_position\n",
    "\n",
    "walk(10_000)\n",
    "# compare performance (using,`time it').\n",
    "timeit.timeit('walk(10_000)', globals=globals(), number=1000)"
   ]
  },
  {
   "cell_type": "markdown",
   "metadata": {},
   "source": [
    "Реализуйте более эффективную версию с помощью `numpy`, сравните производительность (используя, например, magic `timeit`). Воспользовавшись [kdeplot()](https://seaborn.pydata.org/generated/seaborn.kdeplot.html) или аналогами, постройте график распределения значений `walk(10_000)` на каком-то разумном числе запусков. "
   ]
  },
  {
   "cell_type": "code",
   "execution_count": 22,
   "metadata": {},
   "outputs": [
    {
     "data": {
      "text/plain": [
       "148.48930380000093"
      ]
     },
     "execution_count": 22,
     "metadata": {},
     "output_type": "execute_result"
    }
   ],
   "source": [
    "# Implement a more efficient version using `numpy`, compare performance (using, for example, magic `time it'). Using [kdeplot()](https://seaborn.pydata.org/generated/seaborn .kdeplot.html ) or analogs, plot the distribution of the values of `walk(10_000)` on some reasonable number of launches.\n",
    "\n",
    "import timeit\n",
    "import seaborn as sns\n",
    "import matplotlib.pyplot as plt\n",
    "import numpy as np\n",
    "import random\n",
    "\n",
    "\n",
    "def walk_numpy(n: int):\n",
    "    cur_position = 0\n",
    "    for i in range(n):\n",
    "        cur_position += np.random.choice([-3, -1, 0, 2, 3])\n",
    "\n",
    "    return cur_position\n",
    "\n",
    "# test function walk_numpy\n",
    "walk_numpy(10_000)\n",
    "# compare performance (using,`time it').\n",
    "timeit.timeit('walk_numpy(10_000)', globals=globals(), number=1000)\n",
    "\n"
   ]
  },
  {
   "cell_type": "markdown",
   "metadata": {},
   "source": [
    "# Задание 2.17 (5 баллов)\n",
    "\n",
    "Имеется функция, которая проделывает достаточно странные манипуляции с массивом `numpy`"
   ]
  },
  {
   "cell_type": "code",
   "execution_count": 23,
   "metadata": {},
   "outputs": [
    {
     "data": {
      "text/plain": [
       "-0.07319525687531232"
      ]
     },
     "execution_count": 23,
     "metadata": {},
     "output_type": "execute_result"
    }
   ],
   "source": [
    "import numpy.typing as npt\n",
    "\n",
    "def strange_conv(a: npt.NDArray[np.float64]) -> np.float64:\n",
    "    x = a.shape[0]\n",
    "    y = a.shape[1]\n",
    "\n",
    "    t = 1.\n",
    "    for y in range(y - 5):\n",
    "        for x in range(x - 3):\n",
    "            c = 1.5 * a[y+1, x+2] - a[y+5, x+3] * a[y, x] + 0.2 * a[y+4, x]\n",
    "            t = 0.2 * t + 0.8 * c\n",
    "\n",
    "    return t\n",
    "\n",
    "\n",
    "a = np.random.random((10000, 10000))\n",
    "strange_conv(a)\n"
   ]
  },
  {
   "cell_type": "markdown",
   "metadata": {},
   "source": [
    "Оптимизируйте данную функцию с помощью (2 на выбор):\n",
    "- [Numba](https://numba.pydata.org)\n",
    "- `Cython` (+5 баллов)\n",
    "- [Taichi](https://github.com/taichi-dev/taichi) (+5 баллов)\n",
    "- `Pythran `[[1]](https://pythran.readthedocs.io/en/latest/), [[2]](https://serge-sans-paille.github.io/pythran-stories/pythran-tutorial.html) (+2 балла)\n",
    "\n",
    "Сравните производительность."
   ]
  },
  {
   "cell_type": "code",
   "execution_count": 19,
   "metadata": {},
   "outputs": [
    {
     "data": {
      "text/plain": [
       "-0.15339751792773595"
      ]
     },
     "execution_count": 19,
     "metadata": {},
     "output_type": "execute_result"
    }
   ],
   "source": [
    "# optimize function strange_conv using `Numba` and compare performance.ResourceWarning\n",
    "\n",
    "import numba as nb\n",
    "import numpy as np \n",
    "import numpy.typing as npt\n",
    "import timeit\n",
    "\n",
    "@nb.njit\n",
    "def strange_conv(a: npt.NDArray[np.float64]) -> np.float64:\n",
    "    x = a.shape[0]\n",
    "    y = a.shape[1]\n",
    "\n",
    "    t = 1.\n",
    "    for y in range(y - 5):\n",
    "        for x in range(x - 3):\n",
    "            c = 1.5 * a[y+1, x+2] - a[y+5, x+3] * a[y, x] + 0.2 * a[y+4, x]\n",
    "            t = 0.2 * t + 0.8 * c\n",
    "\n",
    "    return t\n",
    "\n",
    "a = np.random.random((10000, 10000))\n",
    "strange_conv(a)"
   ]
  }
 ],
 "metadata": {
  "kernelspec": {
   "display_name": "Python 3.10.8 64-bit (microsoft store)",
   "language": "python",
   "name": "python3"
  },
  "language_info": {
   "codemirror_mode": {
    "name": "ipython",
    "version": 3
   },
   "file_extension": ".py",
   "mimetype": "text/x-python",
   "name": "python",
   "nbconvert_exporter": "python",
   "pygments_lexer": "ipython3",
   "version": "3.10.8"
  },
  "orig_nbformat": 4,
  "vscode": {
   "interpreter": {
    "hash": "88dc52106839ab76c632b9b37a94e7e6e0d083200ab5df2895154d2707a373d4"
   }
  }
 },
 "nbformat": 4,
 "nbformat_minor": 2
}
